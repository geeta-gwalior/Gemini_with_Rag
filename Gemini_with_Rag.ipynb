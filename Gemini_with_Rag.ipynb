{
  "cells": [
    {
      "cell_type": "markdown",
      "metadata": {
        "id": "view-in-github",
        "colab_type": "text"
      },
      "source": [
        "<a href=\"https://colab.research.google.com/github/geeta-gwalior/Gemini_with_Rag/blob/main/Gemini_with_Rag.ipynb\" target=\"_parent\"><img src=\"https://colab.research.google.com/assets/colab-badge.svg\" alt=\"Open In Colab\"/></a>"
      ]
    },
    {
      "cell_type": "markdown",
      "id": "ad9b4b85-9d17-468c-b244-73a1c5191e3e",
      "metadata": {
        "id": "ad9b4b85-9d17-468c-b244-73a1c5191e3e"
      },
      "source": [
        "# RAG application built on gemini"
      ]
    },
    {
      "cell_type": "markdown",
      "id": "PEwKwQm5VxqE",
      "metadata": {
        "id": "PEwKwQm5VxqE"
      },
      "source": [
        "# New section"
      ]
    },
    {
      "cell_type": "code",
      "execution_count": null,
      "id": "7d49c22a-1ad0-4395-b93b-aa95660aa026",
      "metadata": {
        "colab": {
          "base_uri": "https://localhost:8080/"
        },
        "id": "7d49c22a-1ad0-4395-b93b-aa95660aa026",
        "outputId": "034e9600-664c-4b3f-9595-cc943964add1"
      },
      "outputs": [
        {
          "data": {
            "text/plain": [
              "[Document(metadata={'source': 'edufund.pdf', 'page': 0}, page_content='WHAT ARE MUTUAL FUNDS?\\nA mutual fund is a pool of money managed by a professional Fund Manager.\\nIt is a trust that collects money from a number of investors who share a common investment objective and invests the same in equities, bonds, money market instruments and/or other securities. And the income / gains generated from this collective investment is distributed proportionately amongst the investors after deducting applicable expenses and levies, by calculating a scheme’s “Net Asset Value” or NAV. Simply put, the money pooled in by a large number of investors is what makes up a Mutual Fund.\\nHere’s a simple way to understand the concept of a Mutual Fund Unit.\\u2028Let’s say that there is a box of 12 chocolates costing ₹40. Four friends decide to buy the same, but they have only ₹10 each and the shopkeeper only sells by the box. So the friends then decide to pool in ₹10 each and buy the box of 12 chocolates. Now based on their contribution, they each receive 3 chocolates or 3 units, if equated with Mutual Funds.\\u2028And how do you calculate the cost of one unit? Simply divide the total amount with the\\xa0total number\\xa0of chocolates: 40/12 = 3.33.\\u2028So if you were to multiply the number of units (3) with the cost per unit (3.33), you get the initial investment of ₹10.\\nThis results in each friend being a unit holder in the box of chocolates that is collectively owned by all of them, with each person being a part owner of the box.\\nNext, let us understand what is “Net Asset Value” or NAV. Just like an equity share has a traded price, a mutual fund unit has Net Asset Value per Unit. The NAV is the combined market value of the shares, bonds and securities held by a fund on\\xa0any particular\\xa0day (as reduced by permitted expenses and charges). NAV per Unit represents the market value of all the Units in a mutual fund scheme on a given day, net of all expenses and liabilities plus income accrued, divided by the outstanding number of Units in the scheme.\\nMutual funds are ideal for investors who either lack large sums for investment, or for those who neither have the inclination nor the time to research the market, yet want to grow their wealth. The money collected in mutual funds is invested by professional fund managers in line with the scheme’s stated objective. In return, the fund house charges a small fee which is deducted from the investment. The fees charged by mutual funds are regulated and are subject to certain limits speciﬁed by the Securities and Exchange Board of India (SEBI).\\nIndia has one of the highest savings rate globally. This penchant for wealth creation makes it necessary for Indian investors to look beyond the traditionally favoured bank FDs and gold towards mutual funds. However, lack of awareness has made mutual funds a less preferred investment avenue.\\nMutual funds oﬀer multiple product choices for investment across the ﬁnancial spectrum. As investment goals vary – post-retirement expenses, money for children’s education or marriage, house purchase, etc. – the products required to achieve these goals vary too. The Indian mutual fund industry oﬀers a plethora of schemes and caters to all types of investor needs.\\nMutual funds oﬀer an excellent avenue for retail investors to participate and beneﬁt from the uptrends in capital markets. While investing in mutual funds can be beneﬁcial, selecting the right fund can be challenging. Hence, investors should do proper due diligence of the fund and take into consideration the risk-return trade-oﬀ and time horizon or consult a professional investment adviser. Further, in order to reap maximum beneﬁt from mutual fund investments, it is important for investors to diversify across diﬀerent categories of funds such as equity, debt and gold.\\nWhile investors of all categories can invest in securities market on their own, a mutual fund is a better choice for the only reason that all beneﬁts come in a package.\\n'),\n",
              " Document(metadata={'source': 'edufund.pdf', 'page': 1}, page_content='Everything you need to\\xa0learn about education loans\\xa0for studying abroadBasics of Education LoansEducation loans are crucial ﬁnancial support for students studying abroad, offered by banks and ﬁnancial institutions at competitive interest rates to make quality education more accessible.Studying abroad at prestigious universities can be expensive. Education loans help bridge the ﬁnancial gap and enable students from diverse backgrounds to achieve their academic goals at top-tier institutions worldwide.Looking for the best education loan to ﬁnance your overseas studies can be overwhelming. Fortunately, Edufund Loans is here to help. We provide expert guidance to students seeking the ideal education loan that matches their study abroad needs. We aim to make the loan approval process hassle-free and seamless for our clients.Types of Education Loans to Study AbroadFor Indian students planning to study abroad, it’s essential to understand the difference between secured and unsecured education loans before making a choice.Secured education loan:•Requires collateral such as property, ﬁxed deposits, or insurance policies.•Offers a lower interest rate.•Higher chances of approval.'),\n",
              " Document(metadata={'source': 'edufund.pdf', 'page': 2}, page_content='•Longer repayment period.•Allows for a higher loan amount.•No repayment required during the study period.•Parental income not necessary for approval.Unsecured education loan:•No collateral required.•Typically carries a higher interest rate, usually 1.5% to 4% more than secured loans.•Can be more challenging to obtain due to higher risk for the bank.•Shorter repayment period.•Some repayment may be required during the study period.•Parental income is usually required for approval.Student Loan Options for Indian Students Studying AbroadStudents typically have three types of lenders to consider for education loans to study abroad: banks, Non-Banking Financial Companies (NBFCs), and international lenders.Banks: These traditional ﬁnancial institutions provide education loans to Indian students pursuing studies abroad. They are further categorized into public and private banks.NBFCs: Non-Banking Financial Companies operate similarly to banks without a banking license. They offer various ﬁnancial services, including education loans, to Indian students looking to study abroad.International Lenders: These ﬁnancial entities outside India specialize in offering educational funding for international students, including those from India planning to study abroad.Required Documents for Study Abroad Education LoansIdentity-Related Documents From Both Applicant & Co-applicant ( any of these documents mentioned below )'),\n",
              " Document(metadata={'source': 'edufund.pdf', 'page': 3}, page_content='•KYC documents•PAN card•Driving license•Aadhar card•Address proof•Aadhar card•Valid water/electricity/LPG bill•Voter’s ID card•Current house lease agreement•Valid passportAcademic Record Documents (From Applicant)•10th result•12th result•Proof of admission•Undergraduate result semester-wise (if required)•Entrance exam result for abroad institutes (GRE, GMAT, TOEFL, IELTS, etc.)Financial Documents from the Co-applicantFor salaried co-applicant•Salary slips of the last 3 months•Copy of Form 16 for the last 2-3 years or copy of IT Returns for the last 2-3 ﬁnancial years, acknowledged by Income Tax Dept.•Bank account statement for the last 6 months (salary account).For self-employed co-applicant•Business address proof (if applicable)•TDS certiﬁcate (Form 16A, if applicable)•Last 3 years ITR•Certiﬁcate of qualiﬁcation (for C.A./Doctor and other professionals)•Bank account statement for the last 6 monthsTechnical Documents for Collateral•Approved layout plan and permissions (if applicable)'),\n",
              " Document(metadata={'source': 'edufund.pdf', 'page': 4}, page_content='•NOC and allotment letter•Possession certiﬁcate (if applicable)•Copy of prior sale deeds•Conversion certiﬁcate where the property has changed from agricultural to non-agricultural use•Urban clearance certiﬁcateLegal Documents for Collateral•Sale/gift/partition deed•Khata certiﬁcate and extract•Encumbrance certiﬁcate (EC)•Latest property tax receiptWhy\\xa0apply\\xa0with\\xa0EduFund\\xa0loans?Hassle - free process & Faster approvalsLower Interest Rates & No Hidden ChargesUnsecured Loans up to INR 1 croreLoan approval even without an admit letterNo margin money & Unlimited tax beneﬁt on the interest paidCross collateralization of existing mortgaged collateral')]"
            ]
          },
          "execution_count": 8,
          "metadata": {},
          "output_type": "execute_result"
        }
      ],
      "source": [
        "from langchain_community.document_loaders import PyPDFLoader\n",
        "\n",
        "loader = PyPDFLoader(\"mutualfund.pdf\")\n",
        "data = loader.load()\n",
        "data"
      ]
    },
    {
      "cell_type": "code",
      "execution_count": null,
      "id": "29633e3b-ff24-4ace-a09b-c03b6e28c5cc",
      "metadata": {
        "colab": {
          "base_uri": "https://localhost:8080/"
        },
        "id": "29633e3b-ff24-4ace-a09b-c03b6e28c5cc",
        "outputId": "9978853e-5902-4135-cc95-f8628239bae9"
      },
    
      "source": [
        "from langchain.text_splitter import RecursiveCharacterTextSplitter\n",
        "\n",
        "# split data\n",
        "text_splitter = RecursiveCharacterTextSplitter(chunk_size=1000,chunk_overlap=1000)\n",
        "docs = text_splitter.split_documents(data)\n",
        "\n",
        "\n",
        "print(\"Total number of documents: \",len(docs))\n",
        "for chunk in docs:\n",
        "    print(chunk)\n",
        "print(docs[0].page_content)"
      ]
    },
    {
      "cell_type": "code",
      "execution_count": null,
      "id": "1073ab7f-2632-4367-8dec-c19449d6ce71",
      "metadata": {
        "colab": {
          "base_uri": "https://localhost:8080/"
        },
        "id": "1073ab7f-2632-4367-8dec-c19449d6ce71",
        "outputId": "e1f41c20-c225-4bc0-f8a4-c1d9cb02c750"
      },
      "outputs": [
        {
          "data": {
            "text/plain": [
              "0.05168594419956207"
            ]
          },
          "execution_count": 50,
          "metadata": {},
          "output_type": "execute_result"
        }
      ],
      "source": [
        "from langchain_chroma import Chroma\n",
        "from langchain_google_genai import GoogleGenerativeAIEmbeddings\n",
        "\n",
        "from dotenv import load_dotenv\n",
        "from google.colab import userdata\n",
        "\n",
        "\n",
        "\n",
        "embeddings = GoogleGenerativeAIEmbeddings(model=\"models/embedding-001\",google_api_key=userdata.get('gemini_api'))\n",
        "vector = embeddings.embed_query(\"hello, world!\")\n",
        "len(vector)\n",
        "vector[0]\n"
      ]
    },
    {
      "cell_type": "code",
      "execution_count": null,
      "id": "688b6e6a-d8ab-41fb-a665-b72c9c9b4026",
      "metadata": {
        "id": "688b6e6a-d8ab-41fb-a665-b72c9c9b4026"
      },
      "outputs": [],
      "source": [
        "vectorstore = Chroma.from_documents(documents=docs, embedding=embeddings)"
      ]
    },
    {
      "cell_type": "code",
      "execution_count": null,
      "id": "2c674c5c-1b57-42e9-a99d-9e882c75da2d",
      "metadata": {
        "colab": {
          "base_uri": "https://localhost:8080/"
        },
        "id": "2c674c5c-1b57-42e9-a99d-9e882c75da2d",
        "outputId": "072addde-69a3-4045-f316-d28798b65bc1"
      },
      "outputs": [
        {
          "name": "stdout",
          "output_type": "stream",
          "text": [
            "WHAT ARE MUTUAL FUNDS?\n",
            "A mutual fund is a pool of money managed by a professional Fund Manager.\n",
            "It is a trust that collects money from a number of investors who share a common investment objective and invests the same in equities, bonds, money market instruments and/or other securities. And the income / gains generated from this collective investment is distributed proportionately amongst the investors after deducting applicable expenses and levies, by calculating a scheme’s “Net Asset Value” or NAV. Simply put, the money pooled in by a large number of investors is what makes up a Mutual Fund.\n"
          ]
        }
      ],
      "source": [
        "retriever = vectorstore.as_retriever(search_type=\"similarity\", search_kwargs={\"k\": 5})\n",
        "\n",
        "retrieved_docs = retriever.invoke(\"What is Mutual funds\")\n",
        "len(retrieved_docs)\n",
        "print(retrieved_docs[0].page_content)"
      ]
    },
    {
      "cell_type": "code",
      "execution_count": null,
      "id": "7f991a1f-6ce9-4463-9941-b35014df94f6",
      "metadata": {
        "id": "7f991a1f-6ce9-4463-9941-b35014df94f6"
      },
      "outputs": [],
      "source": [
        "from langchain_google_genai import ChatGoogleGenerativeAI\n",
        "\n",
        "llm = ChatGoogleGenerativeAI(model=\"gemini-1.5-flash\",temperature=0.3)"
      ]
    },
    {
      "cell_type": "code",
      "execution_count": null,
      "id": "6ee17439-7bc3-4931-9f57-4ec7e82ce902",
      "metadata": {
        "id": "6ee17439-7bc3-4931-9f57-4ec7e82ce902"
      },
      "outputs": [],
      "source": [
        "from langchain.chains import create_retrieval_chain\n",
        "from langchain.chains.combine_documents import create_stuff_documents_chain\n",
        "from langchain_core.prompts import ChatPromptTemplate\n",
        "\n",
        "system_prompt = (\n",
        "    \"You are an assistant for question-answering tasks. \"\n",
        "    \"Use the following pieces of retrieved context to answer \"\n",
        "    \"the question. If you don't know the answer, say that you \"\n",
        "    \"don't know. Use three sentences maximum and keep the \"\n",
        "    \"answer concise.\"\n",
        "    \"\\n\\n\"\n",
        "    \"{context}\"\n",
        ")\n",
        "\n",
        "prompt = ChatPromptTemplate.from_messages(\n",
        "    [\n",
        "        (\"system\", system_prompt),\n",
        "        (\"human\", \"{input}\"),\n",
        "    ]\n",
        ")"
      ]
    },
    {
      "cell_type": "code",
      "execution_count": null,
      "id": "266e86e0-746b-4943-9470-fd842633ed85",
      "metadata": {
        "id": "266e86e0-746b-4943-9470-fd842633ed85"
      },
      "outputs": [],
      "source": [
        "question_answer_chain = create_stuff_documents_chain(llm, prompt)\n",
        "rag_chain = create_retrieval_chain(retriever, question_answer_chain)"
      ]
    },
    {
      "cell_type": "code",
      "execution_count": null,
      "id": "qKIyuHs2AUCF",
      "metadata": {
        "colab": {
          "background_save": true,
          "base_uri": "https://localhost:8080/"
        },
        "id": "qKIyuHs2AUCF",
        "outputId": "70c796f7-732b-4c4e-dda5-8d15820360b2"
      },
     
  "metadata": {
    "colab": {
      "provenance": [],
      "include_colab_link": true
    },
    "kernelspec": {
      "display_name": "Python 3 (ipykernel)",
      "language": "python",
      "name": "python3"
    },
    "language_info": {
      "codemirror_mode": {
        "name": "ipython",
        "version": 3
      },
      "file_extension": ".py",
      "mimetype": "text/x-python",
      "name": "python",
      "nbconvert_exporter": "python",
      "pygments_lexer": "ipython3",
      "version": "3.10.14"
    }
  },
  "nbformat": 4,
  "nbformat_minor": 5
}
